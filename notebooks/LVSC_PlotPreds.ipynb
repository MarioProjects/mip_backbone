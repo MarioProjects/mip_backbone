{
 "cells": [
  {
   "cell_type": "code",
   "execution_count": 1,
   "metadata": {},
   "outputs": [],
   "source": [
    "%config Completer.use_jedi = False"
   ]
  },
  {
   "cell_type": "code",
   "execution_count": 2,
   "metadata": {},
   "outputs": [],
   "source": [
    "import os\n",
    "from tqdm.notebook import tqdm\n",
    "from skimage import io\n",
    "import numpy as np\n",
    "import pandas as pd\n",
    "import matplotlib.pyplot as plt\n",
    "import albumentations\n",
    "import torch\n",
    "\n",
    "from pathlib import Path\n",
    "import warnings\n",
    "warnings.filterwarnings('ignore')"
   ]
  },
  {
   "cell_type": "code",
   "execution_count": 3,
   "metadata": {},
   "outputs": [],
   "source": [
    "import sys\n",
    "sys.path.append('../')\n",
    "\n",
    "from utils.general import *\n",
    "import utils.dataload as d\n",
    "from models import model_selector\n",
    "from utils.data_augmentation import data_augmentation_selector\n",
    "from medpy.metric.binary import hd, dc, jc, assd\n",
    "\n",
    "from utils.neural import *\n",
    "from utils.datasets import *\n",
    "from utils.metrics import *"
   ]
  },
  {
   "cell_type": "code",
   "execution_count": 4,
   "metadata": {},
   "outputs": [],
   "source": [
    "def find_path(directory, filename):\n",
    "    for path in Path(directory).rglob(filename):\n",
    "        return path"
   ]
  },
  {
   "cell_type": "code",
   "execution_count": 5,
   "metadata": {},
   "outputs": [],
   "source": [
    "def save_pred(image, mask, pred_mask, case, metric_value, descriptor):\n",
    "    fig, (ax1, ax2, ax3) = plt.subplots(1, 3, figsize=(17, 10))\n",
    "    fig.tight_layout(pad=3)  # Set spacing between plots\n",
    "\n",
    "    ax1.imshow(image, cmap=\"gray\")\n",
    "    ax1.axis(\"off\")\n",
    "    ax1.set_title(\"Input Image\")\n",
    "\n",
    "    masked_lv = np.ma.masked_where(mask == 0, mask)\n",
    "    ax2.imshow(image, cmap=\"gray\")\n",
    "    ax2.imshow(masked_lv, 'jet', interpolation='bilinear', alpha=0.33, vmax=3)\n",
    "    ax2.axis(\"off\")\n",
    "    ax2.set_title(\"Ground-truth\")\n",
    "\n",
    "    masked_lv = np.ma.masked_where(pred_mask == 0, pred_mask)\n",
    "    ax3.imshow(image, cmap=\"gray\")\n",
    "    ax3.imshow(masked_lv, 'jet', interpolation='bilinear', alpha=0.33, vmax=3)\n",
    "    ax3.axis(\"off\")\n",
    "    ax3.set_title(\"Automatic Segmentation\")\n",
    "\n",
    "    fig.suptitle(f\"{case} - Jaccard {metric_value:.4f}\", y=0.9)\n",
    "    parent_dir = os.path.join(\"Plots/LVSC_PlotPreds\", descriptor)\n",
    "    os.makedirs(parent_dir, exist_ok=True)\n",
    "    plt.savefig(os.path.join(parent_dir, f\"{case}.jpg\"), dpi=300)\n",
    "    plt.close()"
   ]
  },
  {
   "cell_type": "code",
   "execution_count": 6,
   "metadata": {},
   "outputs": [
    {
     "name": "stdout",
     "output_type": "stream",
     "text": [
      "0 - 0.25: awful\n",
      "0.25 - 0.5: average\n",
      "0.5 - 0.75: good\n",
      "0.75 - 1: excellent\n"
     ]
    }
   ],
   "source": [
    "value_ranges = [0, 0.25, 0.5, 0.75, 1]\n",
    "values_desc = [\"awful\", \"average\", \"good\", \"excellent\"]\n",
    "\n",
    "for i in range(4):\n",
    "    print(f\"{value_ranges[i]} - {value_ranges[i+1]}: {values_desc[i]}\")"
   ]
  },
  {
   "cell_type": "code",
   "execution_count": 7,
   "metadata": {},
   "outputs": [],
   "source": [
    "LV_INDEX = 2"
   ]
  },
  {
   "cell_type": "code",
   "execution_count": 8,
   "metadata": {},
   "outputs": [
    {
     "name": "stdout",
     "output_type": "stream",
     "text": [
      "\n",
      "--- Frosted pretrained backbone! ---\n",
      "Model total number of parameters: 35740845\n",
      "Loaded model from checkpoint: ../checks/LVSC/n1_100_swa.pt\n",
      "LVSC model loaded\n"
     ]
    }
   ],
   "source": [
    "lvsc_model = model_selector(\n",
    "    \"segmentation\", \"resnet34_unet_imagenet_encoder_scse_hypercols\", 1, from_swa=True,\n",
    "    in_channels=3, devices=[0], checkpoint=\"../checks/LVSC/n1_100_swa.pt\"\n",
    ")\n",
    "\n",
    "lvsc_model.eval()\n",
    "print(\"LVSC model loaded\")"
   ]
  },
  {
   "cell_type": "code",
   "execution_count": 9,
   "metadata": {},
   "outputs": [
    {
     "name": "stdout",
     "output_type": "stream",
     "text": [
      "Using None Data Augmentation\n",
      "Padding masks!\n",
      "Padding masks!\n"
     ]
    }
   ],
   "source": [
    "_, _, val_aug = data_augmentation_selector(\n",
    "    \"none\", 224, 224, \"padd\"\n",
    ")"
   ]
  },
  {
   "cell_type": "code",
   "execution_count": 10,
   "metadata": {},
   "outputs": [],
   "source": [
    "batch_size = 16\n",
    "add_depth = True\n",
    "normalization = \"standardize\"\n",
    "\n",
    "test_dataset = LVSC2Dataset(\n",
    "    mode=\"test\", transform=val_aug, img_transform=[],\n",
    "    add_depth=add_depth, normalization=normalization, relative_path=\"../\"\n",
    ")\n",
    "\n",
    "lvsc_loader =  DataLoader(\n",
    "    test_dataset, batch_size=batch_size, shuffle=False, pin_memory=True,\n",
    "    drop_last=False, collate_fn=test_dataset.custom_collate\n",
    ")"
   ]
  },
  {
   "cell_type": "code",
   "execution_count": 11,
   "metadata": {},
   "outputs": [
    {
     "data": {
      "text/plain": [
       "18462"
      ]
     },
     "execution_count": 11,
     "metadata": {},
     "output_type": "execute_result"
    }
   ],
   "source": [
    "len(test_dataset)"
   ]
  },
  {
   "cell_type": "code",
   "execution_count": 12,
   "metadata": {},
   "outputs": [
    {
     "data": {
      "text/html": [
       "<div>\n",
       "<style scoped>\n",
       "    .dataframe tbody tr th:only-of-type {\n",
       "        vertical-align: middle;\n",
       "    }\n",
       "\n",
       "    .dataframe tbody tr th {\n",
       "        vertical-align: top;\n",
       "    }\n",
       "\n",
       "    .dataframe thead th {\n",
       "        text-align: right;\n",
       "    }\n",
       "</style>\n",
       "<table border=\"1\" class=\"dataframe\">\n",
       "  <thead>\n",
       "    <tr style=\"text-align: right;\">\n",
       "      <th></th>\n",
       "      <th>patient</th>\n",
       "      <th>slice</th>\n",
       "      <th>phase</th>\n",
       "    </tr>\n",
       "  </thead>\n",
       "  <tbody>\n",
       "    <tr>\n",
       "      <th>0</th>\n",
       "      <td>DET0009501</td>\n",
       "      <td>7</td>\n",
       "      <td>0</td>\n",
       "    </tr>\n",
       "    <tr>\n",
       "      <th>1</th>\n",
       "      <td>DET0009501</td>\n",
       "      <td>7</td>\n",
       "      <td>1</td>\n",
       "    </tr>\n",
       "    <tr>\n",
       "      <th>2</th>\n",
       "      <td>DET0009501</td>\n",
       "      <td>7</td>\n",
       "      <td>10</td>\n",
       "    </tr>\n",
       "    <tr>\n",
       "      <th>3</th>\n",
       "      <td>DET0009501</td>\n",
       "      <td>7</td>\n",
       "      <td>11</td>\n",
       "    </tr>\n",
       "    <tr>\n",
       "      <th>4</th>\n",
       "      <td>DET0009501</td>\n",
       "      <td>7</td>\n",
       "      <td>12</td>\n",
       "    </tr>\n",
       "  </tbody>\n",
       "</table>\n",
       "</div>"
      ],
      "text/plain": [
       "      patient  slice  phase\n",
       "0  DET0009501      7      0\n",
       "1  DET0009501      7      1\n",
       "2  DET0009501      7     10\n",
       "3  DET0009501      7     11\n",
       "4  DET0009501      7     12"
      ]
     },
     "execution_count": 12,
     "metadata": {},
     "output_type": "execute_result"
    }
   ],
   "source": [
    "df_dict = {\"patient\":[], \"slice\":[], \"phase\":[]}\n",
    "for path in test_dataset.data:\n",
    "    path_slice = int(path[path.find(\"SA\")+len(\"SA\"):path.find(\"_ph\")])\n",
    "    path_phase = int(path[path.find(\"_ph\")+len(\"_ph\"):path.find(\".dcm\")])\n",
    "    patient = path.split(\"/\")[-2]\n",
    "    \n",
    "    df_dict[\"patient\"].append(patient)\n",
    "    df_dict[\"slice\"].append(path_slice)\n",
    "    df_dict[\"phase\"].append(path_phase)\n",
    "\n",
    "df_info = pd.DataFrame(df_dict)\n",
    "df_info.head()"
   ]
  },
  {
   "cell_type": "code",
   "execution_count": 13,
   "metadata": {},
   "outputs": [
    {
     "data": {
      "application/vnd.jupyter.widget-view+json": {
       "model_id": "88cd1820185f454399f2191a918d7305",
       "version_major": 2,
       "version_minor": 0
      },
      "text/plain": [
       "  0%|          | 0/1154 [00:00<?, ?it/s]"
      ]
     },
     "metadata": {},
     "output_type": "display_data"
    }
   ],
   "source": [
    "lvsc_model.eval()\n",
    "\n",
    "metrics = {'img_id':[], 'iou':[], 'dice':[], 'hd':[], 'assd': []}\n",
    "plot_per_range = [50,50,50,50] # [\"awful\", \"average\", \"good\", \"excellent\"]\n",
    "\n",
    "with torch.no_grad():\n",
    "    for batch_indx, batch in enumerate(tqdm(lvsc_loader)):\n",
    "        img_id = batch[\"img_id\"]\n",
    "        image = batch[\"image\"].cuda()\n",
    "        prob_preds = lvsc_model(image)\n",
    "    \n",
    "        original_masks = batch[\"original_mask\"]\n",
    "        original_img = batch[\"original_img\"]\n",
    "        \n",
    "        for pred_indx, single_pred in enumerate(prob_preds):\n",
    "            \n",
    "            path = img_id[pred_indx]\n",
    "            path_slice = int(path[path.find(\"SA\")+len(\"SA\"):path.find(\"_ph\")])\n",
    "            path_phase = int(path[path.find(\"_ph\")+len(\"_ph\"):])\n",
    "            path_patient = path.split(\"/\")[0]\n",
    "            middle_phase = df_info.loc[(df_info[\"patient\"]==path_patient)][\"phase\"].max()//2\n",
    "            current_phase = None\n",
    "            \n",
    "            if path_phase == 0:\n",
    "                current_phase = \"ED\"\n",
    "            elif path_phase == middle_phase:\n",
    "                current_phase = \"ES\"\n",
    "                            \n",
    "            #if current_phase is None:\n",
    "            #    continue\n",
    "            \n",
    "        \n",
    "            if torch.is_tensor(original_masks[pred_indx]):\n",
    "                original_mask = original_masks[pred_indx].data.cpu().numpy().astype(np.uint8).squeeze()\n",
    "            else:  # numpy array\n",
    "                original_mask = original_masks[pred_indx].astype(np.uint8)\n",
    "            \n",
    "            pred_mask = reshape_masks(\n",
    "                torch.sigmoid(single_pred).squeeze(0).data.cpu().numpy(),\n",
    "                original_mask.shape, \"padd\"\n",
    "            )\n",
    "            lv_pred_mask = np.where(pred_mask > 0.5, 1, 0).astype(np.int32)\n",
    "        \n",
    "            jc_score = jaccard_coef(lv_pred_mask, original_mask)\n",
    "            dc_score = dice_coef(lv_pred_mask, original_mask)\n",
    "            hd_score = secure_hd(lv_pred_mask, original_mask)\n",
    "            assd_score = secure_assd(lv_pred_mask, original_mask)\n",
    "            \n",
    "            case = img_id[pred_indx]\n",
    "            \n",
    "            metrics['img_id'].append(case)\n",
    "            metrics['iou'].append(jc_score)\n",
    "            metrics['dice'].append(dc_score)\n",
    "            metrics['hd'].append(hd_score)\n",
    "            metrics['assd'].append(assd_score)\n",
    "            \n",
    "            \"\"\"\n",
    "            save_name = os.path.join(preds_dir, f\"{case}.png\")\n",
    "            cv2.imwrite(save_name, lv_pred_mask)\n",
    "            in_ = cv2.imread(save_name, cv2.IMREAD_GRAYSCALE)\n",
    "            if not np.allclose(in_, lv_pred_mask):\n",
    "                raise AssertionError('File read error: {:s}'.format(save_name))\n",
    "            \"\"\"    \n",
    "            \n",
    "            if jc_score <0.25:\n",
    "                if plot_per_range[0] > 0:\n",
    "                    plot_per_range[0] = plot_per_range[0] - 1\n",
    "                    save_pred(\n",
    "                        original_img[pred_indx], original_mask, lv_pred_mask, \n",
    "                        case, jc_score, values_desc[0]\n",
    "                    )\n",
    "            elif jc_score>0.25 and jc_score<0.5:\n",
    "                if plot_per_range[1] > 0:\n",
    "                    plot_per_range[1] = plot_per_range[1] - 1\n",
    "                    save_pred(\n",
    "                        original_img[pred_indx], original_mask, lv_pred_mask, \n",
    "                        case, jc_score, values_desc[1]\n",
    "                    )\n",
    "            elif jc_score>0.5 and jc_score<0.75:\n",
    "                if plot_per_range[2] > 0:\n",
    "                    plot_per_range[2] = plot_per_range[2] - 1\n",
    "                    save_pred(\n",
    "                        original_img[pred_indx], original_mask, lv_pred_mask, \n",
    "                        case, jc_score, values_desc[2]\n",
    "                    )\n",
    "            elif jc_score>0.75:\n",
    "                if plot_per_range[3] > 0:\n",
    "                    plot_per_range[3] = plot_per_range[3] - 1\n",
    "                    save_pred(\n",
    "                        original_img[pred_indx], original_mask, lv_pred_mask, \n",
    "                        case, jc_score, values_desc[3]\n",
    "                    )\n",
    "        if np.array(plot_per_range).sum()==0:\n",
    "            break"
   ]
  },
  {
   "cell_type": "code",
   "execution_count": 19,
   "metadata": {},
   "outputs": [
    {
     "data": {
      "text/html": [
       "<div>\n",
       "<style scoped>\n",
       "    .dataframe tbody tr th:only-of-type {\n",
       "        vertical-align: middle;\n",
       "    }\n",
       "\n",
       "    .dataframe tbody tr th {\n",
       "        vertical-align: top;\n",
       "    }\n",
       "\n",
       "    .dataframe thead th {\n",
       "        text-align: right;\n",
       "    }\n",
       "</style>\n",
       "<table border=\"1\" class=\"dataframe\">\n",
       "  <thead>\n",
       "    <tr style=\"text-align: right;\">\n",
       "      <th></th>\n",
       "      <th>img_id</th>\n",
       "      <th>iou</th>\n",
       "      <th>dice</th>\n",
       "      <th>hd</th>\n",
       "      <th>assd</th>\n",
       "    </tr>\n",
       "  </thead>\n",
       "  <tbody>\n",
       "    <tr>\n",
       "      <th>0</th>\n",
       "      <td>DET0009501_SA7_ph0</td>\n",
       "      <td>7.547170e-14</td>\n",
       "      <td>7.547170e-14</td>\n",
       "      <td>-1</td>\n",
       "      <td>-1</td>\n",
       "    </tr>\n",
       "    <tr>\n",
       "      <th>1</th>\n",
       "      <td>DET0009501_SA7_ph1</td>\n",
       "      <td>7.326007e-14</td>\n",
       "      <td>7.326007e-14</td>\n",
       "      <td>-1</td>\n",
       "      <td>-1</td>\n",
       "    </tr>\n",
       "    <tr>\n",
       "      <th>2</th>\n",
       "      <td>DET0009501_SA7_ph10</td>\n",
       "      <td>6.631300e-14</td>\n",
       "      <td>6.631300e-14</td>\n",
       "      <td>-1</td>\n",
       "      <td>-1</td>\n",
       "    </tr>\n",
       "    <tr>\n",
       "      <th>3</th>\n",
       "      <td>DET0009501_SA7_ph11</td>\n",
       "      <td>6.811989e-14</td>\n",
       "      <td>6.811989e-14</td>\n",
       "      <td>-1</td>\n",
       "      <td>-1</td>\n",
       "    </tr>\n",
       "    <tr>\n",
       "      <th>4</th>\n",
       "      <td>DET0009501_SA7_ph12</td>\n",
       "      <td>7.012623e-14</td>\n",
       "      <td>7.012623e-14</td>\n",
       "      <td>-1</td>\n",
       "      <td>-1</td>\n",
       "    </tr>\n",
       "  </tbody>\n",
       "</table>\n",
       "</div>"
      ],
      "text/plain": [
       "                img_id           iou          dice  hd  assd\n",
       "0   DET0009501_SA7_ph0  7.547170e-14  7.547170e-14  -1    -1\n",
       "1   DET0009501_SA7_ph1  7.326007e-14  7.326007e-14  -1    -1\n",
       "2  DET0009501_SA7_ph10  6.631300e-14  6.631300e-14  -1    -1\n",
       "3  DET0009501_SA7_ph11  6.811989e-14  6.811989e-14  -1    -1\n",
       "4  DET0009501_SA7_ph12  7.012623e-14  7.012623e-14  -1    -1"
      ]
     },
     "execution_count": 19,
     "metadata": {},
     "output_type": "execute_result"
    }
   ],
   "source": [
    "df = pd.DataFrame(metrics)\n",
    "df.head()"
   ]
  },
  {
   "cell_type": "markdown",
   "metadata": {},
   "source": [
    "## Get metrics by replacing infinite distance values with max value"
   ]
  },
  {
   "cell_type": "code",
   "execution_count": 14,
   "metadata": {},
   "outputs": [
    {
     "name": "stdout",
     "output_type": "stream",
     "text": [
      "Mean IOU: 0.6827378761524501\n",
      "Mean DICE: 0.7934173178549807\n",
      "Mean Hausdorff: 6.071080533710504\n",
      "Mean ASSD: 1.6513260025628804\n"
     ]
    }
   ],
   "source": [
    "print(f\"Mean IOU: {df['iou'].mean()}\")\n",
    "print(f\"Mean DICE: {df['dice'].mean()}\")\n",
    "print(f\"Mean Hausdorff: {df['hd'].mean()}\")\n",
    "print(f\"Mean ASSD: {df['assd'].mean()}\")"
   ]
  },
  {
   "cell_type": "code",
   "execution_count": 15,
   "metadata": {},
   "outputs": [],
   "source": [
    "max_hausdorff = df[\"hd\"].max()\n",
    "max_assd = df[\"assd\"].max()"
   ]
  },
  {
   "cell_type": "code",
   "execution_count": 16,
   "metadata": {},
   "outputs": [],
   "source": [
    "df[\"hd\"].replace(-1, max_hausdorff, inplace=True)\n",
    "df[\"assd\"].replace(-1, max_assd, inplace=True)"
   ]
  },
  {
   "cell_type": "code",
   "execution_count": 17,
   "metadata": {},
   "outputs": [
    {
     "name": "stdout",
     "output_type": "stream",
     "text": [
      "Mean IOU: 0.6827378761524501\n",
      "Mean DICE: 0.7934173178549807\n",
      "Mean Hausdorff: 7.619092224630712\n",
      "Mean ASSD: 2.443492124753212\n"
     ]
    }
   ],
   "source": [
    "print(f\"Mean IOU: {df['iou'].mean()}\")\n",
    "print(f\"Mean DICE: {df['dice'].mean()}\")\n",
    "print(f\"Mean Hausdorff: {df['hd'].mean()}\")\n",
    "print(f\"Mean ASSD: {df['assd'].mean()}\")"
   ]
  },
  {
   "cell_type": "code",
   "execution_count": 18,
   "metadata": {},
   "outputs": [],
   "source": [
    "df.to_csv(\"results.csv\", index=False)"
   ]
  }
 ],
 "metadata": {
  "kernelspec": {
   "display_name": "Python 3",
   "language": "python",
   "name": "python3"
  },
  "language_info": {
   "codemirror_mode": {
    "name": "ipython",
    "version": 3
   },
   "file_extension": ".py",
   "mimetype": "text/x-python",
   "name": "python",
   "nbconvert_exporter": "python",
   "pygments_lexer": "ipython3",
   "version": "3.8.5"
  }
 },
 "nbformat": 4,
 "nbformat_minor": 4
}
