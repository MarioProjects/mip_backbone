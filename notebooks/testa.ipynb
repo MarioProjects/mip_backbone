{
 "cells": [
  {
   "cell_type": "code",
   "execution_count": 1,
   "metadata": {},
   "outputs": [],
   "source": [
    "import os"
   ]
  },
  {
   "cell_type": "code",
   "execution_count": 6,
   "metadata": {},
   "outputs": [
    {
     "data": {
      "text/plain": [
       "'la/casa/bonita'"
      ]
     },
     "execution_count": 6,
     "metadata": {},
     "output_type": "execute_result"
    }
   ],
   "source": [
    "os.path.join(\"la\",\"casa\", \"\", \"bonita\")"
   ]
  },
  {
   "cell_type": "code",
   "execution_count": 1,
   "metadata": {},
   "outputs": [],
   "source": [
    "%config Completer.use_jedi = False"
   ]
  },
  {
   "cell_type": "code",
   "execution_count": 2,
   "metadata": {},
   "outputs": [],
   "source": [
    "import os\n",
    "from tqdm.notebook import tqdm\n",
    "from skimage import io\n",
    "import numpy as np\n",
    "import pandas as pd\n",
    "import matplotlib.pyplot as plt\n",
    "import albumentations\n",
    "import torch\n",
    "\n",
    "from pathlib import Path\n",
    "import warnings\n",
    "warnings.filterwarnings('ignore')"
   ]
  },
  {
   "cell_type": "code",
   "execution_count": 3,
   "metadata": {},
   "outputs": [],
   "source": [
    "import sys\n",
    "sys.path.append('../')\n",
    "\n",
    "from utils.general import *\n",
    "import utils.dataload as d\n",
    "from models import model_selector\n",
    "from utils.data_augmentation import data_augmentation_selector\n",
    "from medpy.metric.binary import hd, dc, jc, assd\n",
    "\n",
    "from utils.neural import *\n",
    "from utils.datasets import *\n",
    "from utils.metrics import *"
   ]
  },
  {
   "cell_type": "code",
   "execution_count": 4,
   "metadata": {},
   "outputs": [],
   "source": [
    "def find_path(directory, filename):\n",
    "    for path in Path(directory).rglob(filename):\n",
    "        return path"
   ]
  },
  {
   "cell_type": "code",
   "execution_count": 5,
   "metadata": {},
   "outputs": [],
   "source": [
    "def save_pred(image, mask, pred_mask, case, metric_value, descriptor):\n",
    "    fig, (ax1, ax2, ax3) = plt.subplots(1, 3, figsize=(17, 10))\n",
    "    fig.tight_layout(pad=3)  # Set spacing between plots\n",
    "\n",
    "    ax1.imshow(image, cmap=\"gray\")\n",
    "    ax1.axis(\"off\")\n",
    "    ax1.set_title(\"Input Image\")\n",
    "\n",
    "    masked_lv = np.ma.masked_where(mask == 0, mask)\n",
    "    ax2.imshow(image, cmap=\"gray\")\n",
    "    ax2.imshow(masked_lv, 'hsv', interpolation='bilinear', alpha=0.33)\n",
    "    ax2.axis(\"off\")\n",
    "    ax2.set_title(\"Ground-truth\")\n",
    "\n",
    "    masked_lv = np.ma.masked_where(pred_mask == 0, pred_mask)\n",
    "    ax3.imshow(image, cmap=\"gray\")\n",
    "    ax3.imshow(masked_lv, 'hsv', interpolation='bilinear', alpha=0.33)\n",
    "    ax3.axis(\"off\")\n",
    "    ax3.set_title(\"Automatic Segmentation\")\n",
    "\n",
    "    fig.suptitle(f\"{case} - Jaccard {metric_value:.4f}\", y=0.9)\n",
    "    parent_dir = os.path.join(\"ALLMMS2ACDC3D_preds_overlays\", descriptor)\n",
    "    os.makedirs(parent_dir, exist_ok=True)\n",
    "    plt.savefig(os.path.join(parent_dir, f\"{case}.jpg\"), dpi=300)\n",
    "    plt.close()"
   ]
  },
  {
   "cell_type": "code",
   "execution_count": 6,
   "metadata": {},
   "outputs": [
    {
     "name": "stdout",
     "output_type": "stream",
     "text": [
      "0 - 0.25: awful\n",
      "0.25 - 0.5: average\n",
      "0.5 - 0.75: good\n",
      "0.75 - 1: excellent\n"
     ]
    }
   ],
   "source": [
    "value_ranges = [0, 0.25, 0.5, 0.75, 1]\n",
    "values_desc = [\"awful\", \"average\", \"good\", \"excellent\"]\n",
    "\n",
    "for i in range(4):\n",
    "    print(f\"{value_ranges[i]} - {value_ranges[i+1]}: {values_desc[i]}\")"
   ]
  },
  {
   "cell_type": "code",
   "execution_count": 8,
   "metadata": {},
   "outputs": [
    {
     "name": "stdout",
     "output_type": "stream",
     "text": [
      "Model total number of parameters: 25641328\n",
      "Loaded model from checkpoint: ../checks/ALLMMSACDC/n1_swa.pt\n",
      "Using LVSC 2D Segmentation Data Augmentation Combinations\n",
      "Padding masks!\n",
      "Padding masks!\n"
     ]
    }
   ],
   "source": [
    "model = model_selector(\n",
    "    \"segmentation\", \"resnet18_unet_scratch_scse_hypercols\", num_classes=4, from_swa=True,\n",
    "    in_channels=3, devices=[0], checkpoint=\"../checks/ALLMMSACDC/n1_swa.pt\"\n",
    ")\n",
    "\n",
    "_, _, val_aug = data_augmentation_selector(\n",
    "    \"lvsc2d\", 224, 224, \"padd\"\n",
    ")"
   ]
  },
  {
   "cell_type": "code",
   "execution_count": 9,
   "metadata": {},
   "outputs": [],
   "source": [
    "batch_size = 1\n",
    "add_depth = True\n",
    "normalization = \"standardize\"\n",
    "\n",
    "train_dataset = ACDC173Dataset(\n",
    "    mode=\"full_train\", transform=val_aug, img_transform=[],\n",
    "    add_depth=add_depth, normalization=normalization, relative_path=\"../\"\n",
    ")\n",
    "\n",
    "acdc_loader =  DataLoader(\n",
    "    train_dataset, batch_size=batch_size, shuffle=False, pin_memory=True,\n",
    "    drop_last=False, collate_fn=train_dataset.custom_collate\n",
    ")"
   ]
  },
  {
   "cell_type": "code",
   "execution_count": 10,
   "metadata": {},
   "outputs": [],
   "source": [
    "def map_mask_classes(mask, classes_map):\n",
    "    \"\"\"\n",
    "\n",
    "    Args:\n",
    "        mask: (np.array) Mask Array to map (height, width)\n",
    "        classes_map: (dict) Mapping between classes. E.g.  {0:0, 1:3, 2:2, 3:1 ,4:4}\n",
    "\n",
    "    Returns: (np.array) Mapped mask array\n",
    "\n",
    "    \"\"\"\n",
    "    res = np.zeros_like(mask).astype(mask.dtype)\n",
    "    for value in np.unique(mask):\n",
    "        if value not in classes_map:\n",
    "            assert False, f\"Please specify all class maps. {value} not in {classes_map}\"\n",
    "        res += np.where(mask == value, classes_map[value], 0).astype(mask.dtype)\n",
    "    return res"
   ]
  },
  {
   "cell_type": "code",
   "execution_count": 11,
   "metadata": {},
   "outputs": [
    {
     "data": {
      "application/vnd.jupyter.widget-view+json": {
       "model_id": "adcaf397d61249e3a58f88ba7f6f2307",
       "version_major": 2,
       "version_minor": 0
      },
      "text/plain": [
       "  0%|          | 0/200 [00:00<?, ?it/s]"
      ]
     },
     "metadata": {},
     "output_type": "display_data"
    }
   ],
   "source": [
    "model.eval()\n",
    "\n",
    "metrics = {\n",
    "    'img_id':[], 'phase':[],\n",
    "    'iou_RV':[], 'dice_RV':[], 'hd_RV':[], 'assd_RV': [], \n",
    "    'iou_MYO':[], 'dice_MYO':[], 'hd_MYO':[], 'assd_MYO': [],\n",
    "    'iou_LV':[], 'dice_LV':[], 'hd_LV':[], 'assd_LV': [],\n",
    "}\n",
    "plot_per_range = [50,50,50,50] # [\"awful\", \"average\", \"good\", \"excellent\"]\n",
    "preds_dir = \"ALLMMS2ACDCD3D_TESTA\"\n",
    "os.makedirs(preds_dir, exist_ok=True)\n",
    "\n",
    "# MMS -> class_to_cat = {1: \"LV\", 2: \"MYO\", 3: \"RV\"}\n",
    "# Original ACDC -> class_to_cat = {1: \"RV\", 2: \"MYO\", 3: \"LV\"}\n",
    "map_classes = {0: 0, 1: 3, 2: 2, 3: 1}\n",
    "class_to_cat = {1: \"RV\", 2: \"MYO\", 3: \"LV\"}\n",
    "mask_reshape_method = \"padd\"\n",
    "include_background = False\n",
    "\n",
    "with torch.no_grad():\n",
    "    for batch_indx, batch in enumerate(tqdm(acdc_loader)):\n",
    "        img_id = batch[\"img_id\"][0]\n",
    "        img_phase = batch[\"phase\"][0]\n",
    "        image = batch[\"image\"].squeeze().cuda()\n",
    "        prob_preds = model(image)\n",
    "    \n",
    "        original_masks = batch[\"original_mask\"][0]\n",
    "        original_img = batch[\"original_img\"][0]\n",
    "        \n",
    "        mask_affine = batch[\"mask_affine\"][0]\n",
    "        mask_header = batch[\"mask_header\"][0]\n",
    "        \n",
    "        pred_mask = convert_multiclass_mask(prob_preds).data.cpu().numpy()\n",
    "        pred_mask = pred_mask.astype(np.uint8)\n",
    "        pred_mask = map_mask_classes(pred_mask, map_classes)\n",
    "        pred_mask = reshape_volume(pred_mask, original_masks.shape[-2:], mask_reshape_method)\n",
    "        \n",
    "        for current_class in range(len(map_classes)):\n",
    "\n",
    "            if not include_background and current_class == 0:\n",
    "                continue\n",
    "\n",
    "            y_true = np.where(original_masks == current_class, 1, 0).astype(np.int32)\n",
    "            y_pred = np.where(pred_mask == current_class, 1, 0).astype(np.int32)\n",
    "            class_str = class_to_cat[current_class]\n",
    "\n",
    "            jc_score = jaccard_coef(y_true, y_pred)\n",
    "            dc_score = dice_coef(y_true, y_pred)\n",
    "            hd_score = secure_hd(y_true, y_pred)\n",
    "            assd_score = secure_assd(y_true, y_pred)\n",
    "\n",
    "            metrics[f'iou_{class_str}'].append(jc_score)\n",
    "            metrics[f'dice_{class_str}'].append(dc_score)\n",
    "            metrics[f'hd_{class_str}'].append(hd_score)\n",
    "            metrics[f'assd_{class_str}'].append(assd_score)\n",
    "\n",
    "        metrics[f'img_id'].append(img_id)\n",
    "        metrics[f'phase'].append(img_phase)\n",
    "        \n",
    "    \n",
    "        pred_name = img_id.split(\"_\")[0]+f\"_{img_phase}.nii.gz\"\n",
    "        patient = img_id.split(\"_\")[0]\n",
    "        os.makedirs(os.path.join(preds_dir, patient), exist_ok=True)\n",
    "        d.save_nii(os.path.join(preds_dir, patient, pred_name), pred_mask, mask_affine, mask_header)"
   ]
  },
  {
   "cell_type": "code",
   "execution_count": 12,
   "metadata": {},
   "outputs": [
    {
     "data": {
      "text/html": [
       "<div>\n",
       "<style scoped>\n",
       "    .dataframe tbody tr th:only-of-type {\n",
       "        vertical-align: middle;\n",
       "    }\n",
       "\n",
       "    .dataframe tbody tr th {\n",
       "        vertical-align: top;\n",
       "    }\n",
       "\n",
       "    .dataframe thead th {\n",
       "        text-align: right;\n",
       "    }\n",
       "</style>\n",
       "<table border=\"1\" class=\"dataframe\">\n",
       "  <thead>\n",
       "    <tr style=\"text-align: right;\">\n",
       "      <th></th>\n",
       "      <th>img_id</th>\n",
       "      <th>phase</th>\n",
       "      <th>iou_RV</th>\n",
       "      <th>dice_RV</th>\n",
       "      <th>hd_RV</th>\n",
       "      <th>assd_RV</th>\n",
       "      <th>iou_MYO</th>\n",
       "      <th>dice_MYO</th>\n",
       "      <th>hd_MYO</th>\n",
       "      <th>assd_MYO</th>\n",
       "      <th>iou_LV</th>\n",
       "      <th>dice_LV</th>\n",
       "      <th>hd_LV</th>\n",
       "      <th>assd_LV</th>\n",
       "    </tr>\n",
       "  </thead>\n",
       "  <tbody>\n",
       "    <tr>\n",
       "      <th>0</th>\n",
       "      <td>patient051_frame01</td>\n",
       "      <td>ED</td>\n",
       "      <td>0.842785</td>\n",
       "      <td>0.914686</td>\n",
       "      <td>13.601471</td>\n",
       "      <td>0.509872</td>\n",
       "      <td>0.719830</td>\n",
       "      <td>0.837095</td>\n",
       "      <td>3.605551</td>\n",
       "      <td>0.302142</td>\n",
       "      <td>0.934202</td>\n",
       "      <td>0.965982</td>\n",
       "      <td>1.414214</td>\n",
       "      <td>0.160820</td>\n",
       "    </tr>\n",
       "    <tr>\n",
       "      <th>1</th>\n",
       "      <td>patient018_frame01</td>\n",
       "      <td>ED</td>\n",
       "      <td>0.863565</td>\n",
       "      <td>0.926788</td>\n",
       "      <td>18.708287</td>\n",
       "      <td>0.338179</td>\n",
       "      <td>0.712289</td>\n",
       "      <td>0.831973</td>\n",
       "      <td>5.099020</td>\n",
       "      <td>0.300584</td>\n",
       "      <td>0.945392</td>\n",
       "      <td>0.971930</td>\n",
       "      <td>2.236068</td>\n",
       "      <td>0.123663</td>\n",
       "    </tr>\n",
       "    <tr>\n",
       "      <th>2</th>\n",
       "      <td>patient015_frame01</td>\n",
       "      <td>ED</td>\n",
       "      <td>0.915189</td>\n",
       "      <td>0.955717</td>\n",
       "      <td>9.433981</td>\n",
       "      <td>0.133869</td>\n",
       "      <td>0.767924</td>\n",
       "      <td>0.868730</td>\n",
       "      <td>4.898979</td>\n",
       "      <td>0.257387</td>\n",
       "      <td>0.951124</td>\n",
       "      <td>0.974950</td>\n",
       "      <td>1.732051</td>\n",
       "      <td>0.122097</td>\n",
       "    </tr>\n",
       "    <tr>\n",
       "      <th>3</th>\n",
       "      <td>patient073_frame01</td>\n",
       "      <td>ED</td>\n",
       "      <td>0.881644</td>\n",
       "      <td>0.937100</td>\n",
       "      <td>15.297059</td>\n",
       "      <td>0.215369</td>\n",
       "      <td>0.782350</td>\n",
       "      <td>0.877886</td>\n",
       "      <td>2.236068</td>\n",
       "      <td>0.244498</td>\n",
       "      <td>0.927044</td>\n",
       "      <td>0.962141</td>\n",
       "      <td>1.732051</td>\n",
       "      <td>0.145375</td>\n",
       "    </tr>\n",
       "    <tr>\n",
       "      <th>4</th>\n",
       "      <td>patient042_frame01</td>\n",
       "      <td>ED</td>\n",
       "      <td>0.906044</td>\n",
       "      <td>0.950706</td>\n",
       "      <td>7.874008</td>\n",
       "      <td>0.160014</td>\n",
       "      <td>0.772626</td>\n",
       "      <td>0.871730</td>\n",
       "      <td>2.828427</td>\n",
       "      <td>0.273555</td>\n",
       "      <td>0.945771</td>\n",
       "      <td>0.972130</td>\n",
       "      <td>2.449490</td>\n",
       "      <td>0.136378</td>\n",
       "    </tr>\n",
       "  </tbody>\n",
       "</table>\n",
       "</div>"
      ],
      "text/plain": [
       "               img_id phase    iou_RV   dice_RV      hd_RV   assd_RV  \\\n",
       "0  patient051_frame01    ED  0.842785  0.914686  13.601471  0.509872   \n",
       "1  patient018_frame01    ED  0.863565  0.926788  18.708287  0.338179   \n",
       "2  patient015_frame01    ED  0.915189  0.955717   9.433981  0.133869   \n",
       "3  patient073_frame01    ED  0.881644  0.937100  15.297059  0.215369   \n",
       "4  patient042_frame01    ED  0.906044  0.950706   7.874008  0.160014   \n",
       "\n",
       "    iou_MYO  dice_MYO    hd_MYO  assd_MYO    iou_LV   dice_LV     hd_LV  \\\n",
       "0  0.719830  0.837095  3.605551  0.302142  0.934202  0.965982  1.414214   \n",
       "1  0.712289  0.831973  5.099020  0.300584  0.945392  0.971930  2.236068   \n",
       "2  0.767924  0.868730  4.898979  0.257387  0.951124  0.974950  1.732051   \n",
       "3  0.782350  0.877886  2.236068  0.244498  0.927044  0.962141  1.732051   \n",
       "4  0.772626  0.871730  2.828427  0.273555  0.945771  0.972130  2.449490   \n",
       "\n",
       "    assd_LV  \n",
       "0  0.160820  \n",
       "1  0.123663  \n",
       "2  0.122097  \n",
       "3  0.145375  \n",
       "4  0.136378  "
      ]
     },
     "execution_count": 12,
     "metadata": {},
     "output_type": "execute_result"
    }
   ],
   "source": [
    "df = pd.DataFrame(metrics)\n",
    "df.head()"
   ]
  },
  {
   "cell_type": "markdown",
   "metadata": {},
   "source": [
    "## Get metrics by replacing infinite distance values with max value"
   ]
  },
  {
   "cell_type": "code",
   "execution_count": 15,
   "metadata": {},
   "outputs": [
    {
     "name": "stdout",
     "output_type": "stream",
     "text": [
      "Mean IOU RV: 0.7968828491968787\n",
      "Mean IOU LV: 0.8902449435843482\n",
      "Mean IOU MYO: 0.7822543512953747\n",
      "--------------\n",
      "Mean DICE RV: 0.8804279094285203\n",
      "Mean DICE LV: 0.9403192728835166\n",
      "Mean DICE MYO: 0.8765771757802159\n",
      "--------------\n",
      "Mean Hausdorff RV: 10.664647535448967\n",
      "Mean Hausdorff LV: 3.618678185082103\n",
      "Mean Hausdorff MYO: 6.543688610479315\n",
      "--------------\n",
      "Mean ASSD RV: 0.3873731101328225\n",
      "Mean ASSD LV: 0.23301156610986581\n",
      "Mean ASSD MYO: 0.31038336348727474\n"
     ]
    }
   ],
   "source": [
    "print(f\"Mean IOU RV: {df['iou_RV'].mean()}\")\n",
    "print(f\"Mean IOU LV: {df['iou_LV'].mean()}\")\n",
    "print(f\"Mean IOU MYO: {df['iou_MYO'].mean()}\")\n",
    "\n",
    "print(\"--------------\")\n",
    "\n",
    "print(f\"Mean DICE RV: {df['dice_RV'].mean()}\")\n",
    "print(f\"Mean DICE LV: {df['dice_LV'].mean()}\")\n",
    "print(f\"Mean DICE MYO: {df['dice_MYO'].mean()}\")\n",
    "\n",
    "print(\"--------------\")\n",
    "\n",
    "print(f\"Mean Hausdorff RV: {df['hd_RV'].mean()}\")\n",
    "print(f\"Mean Hausdorff LV: {df['hd_LV'].mean()}\")\n",
    "print(f\"Mean Hausdorff MYO: {df['hd_MYO'].mean()}\")\n",
    "\n",
    "print(\"--------------\")\n",
    "\n",
    "print(f\"Mean ASSD RV: {df['assd_RV'].mean()}\")\n",
    "print(f\"Mean ASSD LV: {df['assd_LV'].mean()}\")\n",
    "print(f\"Mean ASSD MYO: {df['assd_MYO'].mean()}\")"
   ]
  },
  {
   "cell_type": "code",
   "execution_count": 16,
   "metadata": {},
   "outputs": [
    {
     "name": "stdout",
     "output_type": "stream",
     "text": [
      "min_hausdorff_lv: 1.0\n",
      "min_hausdorff_rv: 2.0\n",
      "min_hausdorff_myo: 1.4142135623730951\n",
      "min_assd_lv: 0.05008315546084634\n",
      "min_assd_rv: 0.08211581768275747\n",
      "min_assd_myo: 0.11815573697853594\n"
     ]
    }
   ],
   "source": [
    "min_hausdorff_lv = df[\"hd_LV\"].min()\n",
    "print(f\"min_hausdorff_lv: {min_hausdorff_lv}\")\n",
    "min_hausdorff_rv = df[\"hd_RV\"].min()\n",
    "print(f\"min_hausdorff_rv: {min_hausdorff_rv}\")\n",
    "min_hausdorff_myo = df[\"hd_MYO\"].min()\n",
    "print(f\"min_hausdorff_myo: {min_hausdorff_myo}\")\n",
    "\n",
    "min_assd_lv = df[\"assd_LV\"].min()\n",
    "print(f\"min_assd_lv: {min_assd_lv}\")\n",
    "min_assd_rv = df[\"assd_RV\"].min()\n",
    "print(f\"min_assd_rv: {min_assd_rv}\")\n",
    "min_assd_myo = df[\"assd_MYO\"].min()\n",
    "print(f\"min_assd_myo: {min_assd_myo}\")"
   ]
  },
  {
   "cell_type": "code",
   "execution_count": 17,
   "metadata": {},
   "outputs": [],
   "source": [
    "max_hausdorff_lv = df[\"hd_LV\"].max()\n",
    "max_hausdorff_rv = df[\"hd_RV\"].max()\n",
    "max_hausdorff_myo = df[\"hd_MYO\"].max()\n",
    "\n",
    "max_assd_lv = df[\"assd_LV\"].max()\n",
    "max_assd_rv = df[\"assd_RV\"].max()\n",
    "max_assd_myo = df[\"assd_MYO\"].max()"
   ]
  },
  {
   "cell_type": "code",
   "execution_count": 18,
   "metadata": {},
   "outputs": [
    {
     "name": "stdout",
     "output_type": "stream",
     "text": [
      "Mean IOU RV: 0.7968828491968787\n",
      "Mean IOU LV: 0.8902449435843482\n",
      "Mean IOU MYO: 0.7822543512953747\n",
      "--------------\n",
      "Mean DICE RV: 0.8804279094285203\n",
      "Mean DICE LV: 0.9403192728835166\n",
      "Mean DICE MYO: 0.8765771757802159\n",
      "--------------\n",
      "Mean Hausdorff RV: 10.664647535448967\n",
      "Mean Hausdorff LV: 3.618678185082103\n",
      "Mean Hausdorff MYO: 6.543688610479315\n",
      "--------------\n",
      "Mean ASSD RV: 0.3873731101328225\n",
      "Mean ASSD LV: 0.23301156610986581\n",
      "Mean ASSD MYO: 0.31038336348727474\n"
     ]
    }
   ],
   "source": [
    "print(f\"Mean IOU RV: {df['iou_RV'].mean()}\")\n",
    "print(f\"Mean IOU LV: {df['iou_LV'].mean()}\")\n",
    "print(f\"Mean IOU MYO: {df['iou_MYO'].mean()}\")\n",
    "\n",
    "print(\"--------------\")\n",
    "\n",
    "print(f\"Mean DICE RV: {df['dice_RV'].mean()}\")\n",
    "print(f\"Mean DICE LV: {df['dice_LV'].mean()}\")\n",
    "print(f\"Mean DICE MYO: {df['dice_MYO'].mean()}\")\n",
    "\n",
    "print(\"--------------\")\n",
    "\n",
    "print(f\"Mean Hausdorff RV: {df['hd_RV'].mean()}\")\n",
    "print(f\"Mean Hausdorff LV: {df['hd_LV'].mean()}\")\n",
    "print(f\"Mean Hausdorff MYO: {df['hd_MYO'].mean()}\")\n",
    "\n",
    "print(\"--------------\")\n",
    "\n",
    "print(f\"Mean ASSD RV: {df['assd_RV'].mean()}\")\n",
    "print(f\"Mean ASSD LV: {df['assd_LV'].mean()}\")\n",
    "print(f\"Mean ASSD MYO: {df['assd_MYO'].mean()}\")"
   ]
  },
  {
   "cell_type": "code",
   "execution_count": 19,
   "metadata": {
    "scrolled": true
   },
   "outputs": [
    {
     "data": {
      "text/html": [
       "<div>\n",
       "<style scoped>\n",
       "    .dataframe tbody tr th:only-of-type {\n",
       "        vertical-align: middle;\n",
       "    }\n",
       "\n",
       "    .dataframe tbody tr th {\n",
       "        vertical-align: top;\n",
       "    }\n",
       "\n",
       "    .dataframe thead th {\n",
       "        text-align: right;\n",
       "    }\n",
       "</style>\n",
       "<table border=\"1\" class=\"dataframe\">\n",
       "  <thead>\n",
       "    <tr style=\"text-align: right;\">\n",
       "      <th></th>\n",
       "      <th>iou_RV</th>\n",
       "      <th>dice_RV</th>\n",
       "      <th>hd_RV</th>\n",
       "      <th>assd_RV</th>\n",
       "      <th>iou_MYO</th>\n",
       "      <th>dice_MYO</th>\n",
       "      <th>hd_MYO</th>\n",
       "      <th>assd_MYO</th>\n",
       "      <th>iou_LV</th>\n",
       "      <th>dice_LV</th>\n",
       "      <th>hd_LV</th>\n",
       "      <th>assd_LV</th>\n",
       "    </tr>\n",
       "    <tr>\n",
       "      <th>phase</th>\n",
       "      <th></th>\n",
       "      <th></th>\n",
       "      <th></th>\n",
       "      <th></th>\n",
       "      <th></th>\n",
       "      <th></th>\n",
       "      <th></th>\n",
       "      <th></th>\n",
       "      <th></th>\n",
       "      <th></th>\n",
       "      <th></th>\n",
       "      <th></th>\n",
       "    </tr>\n",
       "  </thead>\n",
       "  <tbody>\n",
       "    <tr>\n",
       "      <th>ED</th>\n",
       "      <td>0.872809</td>\n",
       "      <td>0.930961</td>\n",
       "      <td>10.127142</td>\n",
       "      <td>0.255008</td>\n",
       "      <td>0.770981</td>\n",
       "      <td>0.869390</td>\n",
       "      <td>6.020326</td>\n",
       "      <td>0.285724</td>\n",
       "      <td>0.923994</td>\n",
       "      <td>0.960221</td>\n",
       "      <td>3.281441</td>\n",
       "      <td>0.185644</td>\n",
       "    </tr>\n",
       "    <tr>\n",
       "      <th>ES</th>\n",
       "      <td>0.720957</td>\n",
       "      <td>0.829895</td>\n",
       "      <td>11.202153</td>\n",
       "      <td>0.519738</td>\n",
       "      <td>0.793528</td>\n",
       "      <td>0.883765</td>\n",
       "      <td>7.067051</td>\n",
       "      <td>0.335043</td>\n",
       "      <td>0.856496</td>\n",
       "      <td>0.920417</td>\n",
       "      <td>3.955915</td>\n",
       "      <td>0.280379</td>\n",
       "    </tr>\n",
       "  </tbody>\n",
       "</table>\n",
       "</div>"
      ],
      "text/plain": [
       "         iou_RV   dice_RV      hd_RV   assd_RV   iou_MYO  dice_MYO    hd_MYO  \\\n",
       "phase                                                                          \n",
       "ED     0.872809  0.930961  10.127142  0.255008  0.770981  0.869390  6.020326   \n",
       "ES     0.720957  0.829895  11.202153  0.519738  0.793528  0.883765  7.067051   \n",
       "\n",
       "       assd_MYO    iou_LV   dice_LV     hd_LV   assd_LV  \n",
       "phase                                                    \n",
       "ED     0.285724  0.923994  0.960221  3.281441  0.185644  \n",
       "ES     0.335043  0.856496  0.920417  3.955915  0.280379  "
      ]
     },
     "execution_count": 19,
     "metadata": {},
     "output_type": "execute_result"
    }
   ],
   "source": [
    "df.groupby(\"phase\").mean()"
   ]
  },
  {
   "cell_type": "code",
   "execution_count": 20,
   "metadata": {},
   "outputs": [],
   "source": [
    "df.to_csv(os.path.join(preds_dir, \"results.csv\"), index=False)"
   ]
  }
 ],
 "metadata": {
  "kernelspec": {
   "display_name": "Python 3",
   "language": "python",
   "name": "python3"
  },
  "language_info": {
   "codemirror_mode": {
    "name": "ipython",
    "version": 3
   },
   "file_extension": ".py",
   "mimetype": "text/x-python",
   "name": "python",
   "nbconvert_exporter": "python",
   "pygments_lexer": "ipython3",
   "version": "3.8.5"
  }
 },
 "nbformat": 4,
 "nbformat_minor": 4
}
