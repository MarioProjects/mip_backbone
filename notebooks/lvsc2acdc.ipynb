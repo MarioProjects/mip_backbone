{
 "cells": [
  {
   "cell_type": "code",
   "execution_count": 1,
   "metadata": {},
   "outputs": [],
   "source": [
    "%config Completer.use_jedi = False"
   ]
  },
  {
   "cell_type": "code",
   "execution_count": 2,
   "metadata": {},
   "outputs": [],
   "source": [
    "import os\n",
    "from tqdm.notebook import tqdm\n",
    "from skimage import io\n",
    "import numpy as np\n",
    "import pandas as pd\n",
    "import matplotlib.pyplot as plt\n",
    "import albumentations\n",
    "import torch\n",
    "\n",
    "from pathlib import Path\n",
    "import warnings\n",
    "warnings.filterwarnings('ignore')"
   ]
  },
  {
   "cell_type": "code",
   "execution_count": 3,
   "metadata": {},
   "outputs": [],
   "source": [
    "import sys\n",
    "sys.path.append('../')\n",
    "\n",
    "from utils.general import *\n",
    "import utils.dataload as d\n",
    "from models import model_selector\n",
    "from utils.data_augmentation import data_augmentation_selector\n",
    "from medpy.metric.binary import hd, dc, jc, assd\n",
    "\n",
    "from utils.neural import *\n",
    "from utils.datasets import *\n",
    "from utils.metrics import *"
   ]
  },
  {
   "cell_type": "code",
   "execution_count": 4,
   "metadata": {},
   "outputs": [],
   "source": [
    "def find_path(directory, filename):\n",
    "    for path in Path(directory).rglob(filename):\n",
    "        return path"
   ]
  },
  {
   "cell_type": "code",
   "execution_count": 5,
   "metadata": {},
   "outputs": [],
   "source": [
    "def save_pred(image, mask, pred_mask, case, metric_value, descriptor):\n",
    "    fig, (ax1, ax2, ax3) = plt.subplots(1, 3, figsize=(17, 10))\n",
    "    fig.tight_layout(pad=3)  # Set spacing between plots\n",
    "\n",
    "    ax1.imshow(image, cmap=\"gray\")\n",
    "    ax1.axis(\"off\")\n",
    "    ax1.set_title(\"Input Image\")\n",
    "\n",
    "    masked_lv = np.ma.masked_where(mask == 0, mask)\n",
    "    ax2.imshow(image, cmap=\"gray\")\n",
    "    ax2.imshow(masked_lv, 'hsv', interpolation='bilinear', alpha=0.33)\n",
    "    ax2.axis(\"off\")\n",
    "    ax2.set_title(\"Ground-truth\")\n",
    "\n",
    "    masked_lv = np.ma.masked_where(pred_mask == 0, pred_mask)\n",
    "    ax3.imshow(image, cmap=\"gray\")\n",
    "    ax3.imshow(masked_lv, 'hsv', interpolation='bilinear', alpha=0.33)\n",
    "    ax3.axis(\"off\")\n",
    "    ax3.set_title(\"Automatic Segmentation\")\n",
    "\n",
    "    fig.suptitle(f\"{case} - Jaccard {metric_value:.4f}\", y=0.9)\n",
    "    parent_dir = os.path.join(\"lvsc2acdc_preds_overlays\", descriptor)\n",
    "    os.makedirs(parent_dir, exist_ok=True)\n",
    "    plt.savefig(os.path.join(parent_dir, f\"{case}.jpg\"), dpi=300)\n",
    "    plt.close()"
   ]
  },
  {
   "cell_type": "code",
   "execution_count": 6,
   "metadata": {},
   "outputs": [
    {
     "name": "stdout",
     "output_type": "stream",
     "text": [
      "0 - 0.25: awful\n",
      "0.25 - 0.5: average\n",
      "0.5 - 0.75: good\n",
      "0.75 - 1: excellent\n"
     ]
    }
   ],
   "source": [
    "value_ranges = [0, 0.25, 0.5, 0.75, 1]\n",
    "values_desc = [\"awful\", \"average\", \"good\", \"excellent\"]\n",
    "\n",
    "for i in range(4):\n",
    "    print(f\"{value_ranges[i]} - {value_ranges[i+1]}: {values_desc[i]}\")"
   ]
  },
  {
   "cell_type": "code",
   "execution_count": 7,
   "metadata": {},
   "outputs": [],
   "source": [
    "LV_INDEX = 2"
   ]
  },
  {
   "cell_type": "code",
   "execution_count": 8,
   "metadata": {},
   "outputs": [
    {
     "name": "stdout",
     "output_type": "stream",
     "text": [
      "\n",
      "--- Frosted pretrained backbone! ---\n",
      "Model total number of parameters: 35740845\n",
      "Loaded model from checkpoint: ../checks/lvsc.pt\n",
      "Using LVSC 2D Segmentation Data Augmentation Combinations\n",
      "Padding masks!\n",
      "Padding masks!\n"
     ]
    }
   ],
   "source": [
    "model = model_selector(\n",
    "    \"segmentation\", \"resnet34_unet_imagenet_encoder_scse_hypercols\", num_classes=1, from_swa=False,\n",
    "    in_channels=3, devices=[0], checkpoint=\"../checks/lvsc.pt\"\n",
    ")\n",
    "\n",
    "_, _, val_aug = data_augmentation_selector(\n",
    "    \"lvsc2d\", 224, 224, \"padd\"\n",
    ")"
   ]
  },
  {
   "cell_type": "code",
   "execution_count": 9,
   "metadata": {},
   "outputs": [],
   "source": [
    "batch_size = 1\n",
    "add_depth = True\n",
    "normalization = \"standardize\"\n",
    "\n",
    "train_dataset = ACDC173Dataset(\n",
    "    mode=\"full_train\", transform=val_aug, img_transform=[],\n",
    "    add_depth=add_depth, normalization=normalization, relative_path=\"../\"\n",
    ")\n",
    "\n",
    "acdc_loader =  DataLoader(\n",
    "    train_dataset, batch_size=batch_size, shuffle=False, pin_memory=True,\n",
    "    drop_last=False, collate_fn=train_dataset.custom_collate\n",
    ")"
   ]
  },
  {
   "cell_type": "code",
   "execution_count": 10,
   "metadata": {},
   "outputs": [
    {
     "data": {
      "application/vnd.jupyter.widget-view+json": {
       "model_id": "54ad86c536474d768a55d64873898fc2",
       "version_major": 2,
       "version_minor": 0
      },
      "text/plain": [
       "  0%|          | 0/200 [00:00<?, ?it/s]"
      ]
     },
     "metadata": {},
     "output_type": "display_data"
    }
   ],
   "source": [
    "model.eval()\n",
    "\n",
    "metrics = {'img_id':[], 'iou':[], 'dice':[], 'hd':[], 'assd': [], 'slice':[], 'phase':[]}\n",
    "plot_per_range = [50,50,50,50] # [\"awful\", \"average\", \"good\", \"excellent\"]\n",
    "preds_dir = \"lvsc2acdc_preds\"\n",
    "os.makedirs(preds_dir, exist_ok=True)\n",
    "\n",
    "with torch.no_grad():\n",
    "    for batch_indx, batch in enumerate(tqdm(acdc_loader)):\n",
    "        img_id = batch[\"img_id\"][0]\n",
    "        img_phase = batch[\"phase\"][0]\n",
    "        image = batch[\"image\"].squeeze().cuda()\n",
    "        prob_preds = model(image)\n",
    "    \n",
    "        original_masks = batch[\"original_mask\"][0]\n",
    "        original_img = batch[\"original_img\"][0]\n",
    "        \n",
    "        mask_affine = batch[\"mask_affine\"][0]\n",
    "        mask_header = batch[\"mask_header\"][0]\n",
    "        \n",
    "        res_mask = []\n",
    "        \n",
    "        for pred_indx, single_pred in enumerate(prob_preds):\n",
    "        \n",
    "            if torch.is_tensor(original_masks[pred_indx]):\n",
    "                original_mask = original_masks[pred_indx].data.cpu().numpy().astype(np.uint8).squeeze()\n",
    "            else:  # numpy array\n",
    "                original_mask = original_masks[pred_indx].astype(np.uint8)\n",
    "            \n",
    "            original_mask = np.where(original_mask==LV_INDEX, 1, 0)\n",
    "            \n",
    "            pred_mask = reshape_masks(\n",
    "                torch.sigmoid(single_pred).squeeze(0).data.cpu().numpy(),\n",
    "                original_mask.shape, \"padd\"\n",
    "            )\n",
    "            lv_pred_mask = np.where(pred_mask > 0.5, 1, 0).astype(np.int32)\n",
    "        \n",
    "            jc_score = jaccard_coef(lv_pred_mask, original_mask)\n",
    "            dc_score = dice_coef(lv_pred_mask, original_mask)\n",
    "            hd_score = secure_hd(lv_pred_mask, original_mask)\n",
    "            assd_score = secure_assd(lv_pred_mask, original_mask)\n",
    "            \n",
    "            metrics['iou'].append(jc_score)\n",
    "            metrics['dice'].append(dc_score)\n",
    "            metrics['hd'].append(hd_score)\n",
    "            metrics['assd'].append(assd_score)\n",
    "            \n",
    "            metrics['img_id'].append(img_id)\n",
    "            metrics['slice'].append(pred_indx)\n",
    "            metrics['phase'].append(img_phase)\n",
    "            \n",
    "            \n",
    "            res_mask.append(torch.tensor(lv_pred_mask))\n",
    "                \n",
    "            if jc_score <0.25:\n",
    "                if plot_per_range[0] > 0:\n",
    "                    plot_per_range[0] = plot_per_range[0] - 1\n",
    "                    save_pred(\n",
    "                        original_img[pred_indx], original_mask, lv_pred_mask, \n",
    "                        f\"{img_id}_slice{pred_indx}_{img_phase}\", jc_score, values_desc[0]\n",
    "                    )\n",
    "            elif jc_score>0.25 and jc_score<0.5:\n",
    "                if plot_per_range[1] > 0:\n",
    "                    plot_per_range[1] = plot_per_range[1] - 1\n",
    "                    save_pred(\n",
    "                        original_img[pred_indx], original_mask, lv_pred_mask, \n",
    "                        f\"{img_id}_slice{pred_indx}_{img_phase}\", jc_score, values_desc[1]\n",
    "                    )\n",
    "            elif jc_score>0.5 and jc_score<0.75:\n",
    "                if plot_per_range[2] > 0:\n",
    "                    plot_per_range[2] = plot_per_range[2] - 1\n",
    "                    save_pred(\n",
    "                        original_img[pred_indx], original_mask, lv_pred_mask, \n",
    "                        f\"{img_id}_slice{pred_indx}_{img_phase}\", jc_score, values_desc[2]\n",
    "                    )\n",
    "            elif jc_score>0.75:\n",
    "                if plot_per_range[3] > 0:\n",
    "                    plot_per_range[3] = plot_per_range[3] - 1\n",
    "                    save_pred(\n",
    "                        original_img[pred_indx], original_mask, lv_pred_mask, \n",
    "                        f\"{img_id}_slice{pred_indx}_{img_phase}\", jc_score, values_desc[3]\n",
    "                    )\n",
    "        \n",
    "        res_mask = torch.stack(res_mask)\n",
    "        pred_name = img_id.split(\"_\")[0]+f\"_{img_phase}.nii.gz\"\n",
    "        d.save_nii(os.path.join(preds_dir, pred_name), res_mask, mask_affine, mask_header)"
   ]
  },
  {
   "cell_type": "code",
   "execution_count": 11,
   "metadata": {},
   "outputs": [
    {
     "data": {
      "text/html": [
       "<div>\n",
       "<style scoped>\n",
       "    .dataframe tbody tr th:only-of-type {\n",
       "        vertical-align: middle;\n",
       "    }\n",
       "\n",
       "    .dataframe tbody tr th {\n",
       "        vertical-align: top;\n",
       "    }\n",
       "\n",
       "    .dataframe thead th {\n",
       "        text-align: right;\n",
       "    }\n",
       "</style>\n",
       "<table border=\"1\" class=\"dataframe\">\n",
       "  <thead>\n",
       "    <tr style=\"text-align: right;\">\n",
       "      <th></th>\n",
       "      <th>img_id</th>\n",
       "      <th>iou</th>\n",
       "      <th>dice</th>\n",
       "      <th>hd</th>\n",
       "      <th>assd</th>\n",
       "      <th>slice</th>\n",
       "      <th>phase</th>\n",
       "    </tr>\n",
       "  </thead>\n",
       "  <tbody>\n",
       "    <tr>\n",
       "      <th>0</th>\n",
       "      <td>patient051_frame01</td>\n",
       "      <td>0.819539</td>\n",
       "      <td>0.900820</td>\n",
       "      <td>2.000000</td>\n",
       "      <td>0.570074</td>\n",
       "      <td>0</td>\n",
       "      <td>ED</td>\n",
       "    </tr>\n",
       "    <tr>\n",
       "      <th>1</th>\n",
       "      <td>patient051_frame01</td>\n",
       "      <td>0.811881</td>\n",
       "      <td>0.896175</td>\n",
       "      <td>2.000000</td>\n",
       "      <td>0.697133</td>\n",
       "      <td>1</td>\n",
       "      <td>ED</td>\n",
       "    </tr>\n",
       "    <tr>\n",
       "      <th>2</th>\n",
       "      <td>patient051_frame01</td>\n",
       "      <td>0.800000</td>\n",
       "      <td>0.888889</td>\n",
       "      <td>2.000000</td>\n",
       "      <td>0.751975</td>\n",
       "      <td>2</td>\n",
       "      <td>ED</td>\n",
       "    </tr>\n",
       "    <tr>\n",
       "      <th>3</th>\n",
       "      <td>patient051_frame01</td>\n",
       "      <td>0.740084</td>\n",
       "      <td>0.850630</td>\n",
       "      <td>2.236068</td>\n",
       "      <td>0.967716</td>\n",
       "      <td>3</td>\n",
       "      <td>ED</td>\n",
       "    </tr>\n",
       "    <tr>\n",
       "      <th>4</th>\n",
       "      <td>patient051_frame01</td>\n",
       "      <td>0.689941</td>\n",
       "      <td>0.816527</td>\n",
       "      <td>2.236068</td>\n",
       "      <td>1.022536</td>\n",
       "      <td>4</td>\n",
       "      <td>ED</td>\n",
       "    </tr>\n",
       "  </tbody>\n",
       "</table>\n",
       "</div>"
      ],
      "text/plain": [
       "               img_id       iou      dice        hd      assd  slice phase\n",
       "0  patient051_frame01  0.819539  0.900820  2.000000  0.570074      0    ED\n",
       "1  patient051_frame01  0.811881  0.896175  2.000000  0.697133      1    ED\n",
       "2  patient051_frame01  0.800000  0.888889  2.000000  0.751975      2    ED\n",
       "3  patient051_frame01  0.740084  0.850630  2.236068  0.967716      3    ED\n",
       "4  patient051_frame01  0.689941  0.816527  2.236068  1.022536      4    ED"
      ]
     },
     "execution_count": 11,
     "metadata": {},
     "output_type": "execute_result"
    }
   ],
   "source": [
    "df = pd.DataFrame(metrics)\n",
    "df.head()"
   ]
  },
  {
   "cell_type": "markdown",
   "metadata": {},
   "source": [
    "## Get metrics by replacing infinite distance values with max value"
   ]
  },
  {
   "cell_type": "code",
   "execution_count": 12,
   "metadata": {},
   "outputs": [
    {
     "name": "stdout",
     "output_type": "stream",
     "text": [
      "Mean IOU: 0.7254411098415574\n",
      "Mean DICE: 0.8217171434543292\n",
      "Mean Hausdorff: 3.5935598961131356\n",
      "Mean ASSD: 0.9812730155705777\n"
     ]
    }
   ],
   "source": [
    "print(f\"Mean IOU: {df['iou'].mean()}\")\n",
    "print(f\"Mean DICE: {df['dice'].mean()}\")\n",
    "print(f\"Mean Hausdorff: {df['hd'].mean()}\")\n",
    "print(f\"Mean ASSD: {df['assd'].mean()}\")"
   ]
  },
  {
   "cell_type": "code",
   "execution_count": 13,
   "metadata": {},
   "outputs": [],
   "source": [
    "max_hausdorff = df[\"hd\"].max()\n",
    "max_assd = df[\"assd\"].max()"
   ]
  },
  {
   "cell_type": "code",
   "execution_count": 14,
   "metadata": {},
   "outputs": [],
   "source": [
    "df[\"hd\"].replace(-1, max_hausdorff, inplace=True)\n",
    "df[\"assd\"].replace(-1, max_assd, inplace=True)"
   ]
  },
  {
   "cell_type": "code",
   "execution_count": 15,
   "metadata": {},
   "outputs": [
    {
     "name": "stdout",
     "output_type": "stream",
     "text": [
      "Mean IOU: 0.7254411098415574\n",
      "Mean DICE: 0.8217171434543292\n",
      "Mean Hausdorff: 6.2111488195291376\n",
      "Mean ASSD: 2.9107317539941318\n"
     ]
    }
   ],
   "source": [
    "print(f\"Mean IOU: {df['iou'].mean()}\")\n",
    "print(f\"Mean DICE: {df['dice'].mean()}\")\n",
    "print(f\"Mean Hausdorff: {df['hd'].mean()}\")\n",
    "print(f\"Mean ASSD: {df['assd'].mean()}\")"
   ]
  },
  {
   "cell_type": "code",
   "execution_count": 18,
   "metadata": {},
   "outputs": [
    {
     "data": {
      "text/html": [
       "<div>\n",
       "<style scoped>\n",
       "    .dataframe tbody tr th:only-of-type {\n",
       "        vertical-align: middle;\n",
       "    }\n",
       "\n",
       "    .dataframe tbody tr th {\n",
       "        vertical-align: top;\n",
       "    }\n",
       "\n",
       "    .dataframe thead th {\n",
       "        text-align: right;\n",
       "    }\n",
       "</style>\n",
       "<table border=\"1\" class=\"dataframe\">\n",
       "  <thead>\n",
       "    <tr style=\"text-align: right;\">\n",
       "      <th></th>\n",
       "      <th>iou</th>\n",
       "      <th>dice</th>\n",
       "      <th>hd</th>\n",
       "      <th>assd</th>\n",
       "      <th>slice</th>\n",
       "    </tr>\n",
       "    <tr>\n",
       "      <th>phase</th>\n",
       "      <th></th>\n",
       "      <th></th>\n",
       "      <th></th>\n",
       "      <th></th>\n",
       "      <th></th>\n",
       "    </tr>\n",
       "  </thead>\n",
       "  <tbody>\n",
       "    <tr>\n",
       "      <th>ED</th>\n",
       "      <td>0.723024</td>\n",
       "      <td>0.827199</td>\n",
       "      <td>4.396858</td>\n",
       "      <td>1.858859</td>\n",
       "      <td>4.555205</td>\n",
       "    </tr>\n",
       "    <tr>\n",
       "      <th>ES</th>\n",
       "      <td>0.727859</td>\n",
       "      <td>0.816235</td>\n",
       "      <td>8.025440</td>\n",
       "      <td>3.962604</td>\n",
       "      <td>4.555205</td>\n",
       "    </tr>\n",
       "  </tbody>\n",
       "</table>\n",
       "</div>"
      ],
      "text/plain": [
       "            iou      dice        hd      assd     slice\n",
       "phase                                                  \n",
       "ED     0.723024  0.827199  4.396858  1.858859  4.555205\n",
       "ES     0.727859  0.816235  8.025440  3.962604  4.555205"
      ]
     },
     "execution_count": 18,
     "metadata": {},
     "output_type": "execute_result"
    }
   ],
   "source": [
    "df.groupby(\"phase\").mean()"
   ]
  },
  {
   "cell_type": "code",
   "execution_count": 19,
   "metadata": {},
   "outputs": [],
   "source": [
    "df.to_csv(\"results.csv\", index=False)"
   ]
  }
 ],
 "metadata": {
  "kernelspec": {
   "display_name": "Python 3",
   "language": "python",
   "name": "python3"
  },
  "language_info": {
   "codemirror_mode": {
    "name": "ipython",
    "version": 3
   },
   "file_extension": ".py",
   "mimetype": "text/x-python",
   "name": "python",
   "nbconvert_exporter": "python",
   "pygments_lexer": "ipython3",
   "version": "3.8.5"
  }
 },
 "nbformat": 4,
 "nbformat_minor": 4
}
