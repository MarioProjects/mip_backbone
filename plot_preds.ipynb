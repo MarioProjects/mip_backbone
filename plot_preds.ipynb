{
 "cells": [
  {
   "cell_type": "code",
   "execution_count": 1,
   "metadata": {},
   "outputs": [],
   "source": [
    "%config Completer.use_jedi = False"
   ]
  },
  {
   "cell_type": "code",
   "execution_count": 2,
   "metadata": {},
   "outputs": [],
   "source": [
    "import os\n",
    "from skimage import io\n",
    "import numpy as np\n",
    "import pandas as pd\n",
    "import matplotlib.pyplot as plt\n",
    "import albumentations\n",
    "import torch\n",
    "\n",
    "from pathlib import Path\n",
    "\n",
    "from utils.general import *\n",
    "import utils.dataload as d\n",
    "from models import model_selector\n",
    "from utils.data_augmentation import data_augmentation_selector\n",
    "from medpy.metric.binary import hd, dc, jc, assd"
   ]
  },
  {
   "cell_type": "code",
   "execution_count": 3,
   "metadata": {},
   "outputs": [],
   "source": [
    "def find_path(directory, filename):\n",
    "    for path in Path(directory).rglob(filename):\n",
    "        return path"
   ]
  },
  {
   "cell_type": "code",
   "execution_count": 8,
   "metadata": {},
   "outputs": [
    {
     "name": "stdout",
     "output_type": "stream",
     "text": [
      "\n",
      "--- Frosted pretrained backbone! ---\n",
      "Model total number of parameters: 35740845\n",
      "Loaded model from checkpoint: checks/LVSC/n1_100_swa.pt\n",
      "LVSC model loaded\n"
     ]
    }
   ],
   "source": [
    "lvsc_model = model_selector(\n",
    "    \"segmentation\", \"resnet34_unet_imagenet_encoder_scse_hypercols\", 1, from_swa=True,\n",
    "    in_channels=3, devices=[0], checkpoint=\"checks/LVSC/n1_100_swa.pt\"\n",
    ")\n",
    "\n",
    "lvsc_model.eval()\n",
    "print(\"LVSC model loaded\")"
   ]
  },
  {
   "cell_type": "code",
   "execution_count": 11,
   "metadata": {},
   "outputs": [
    {
     "name": "stdout",
     "output_type": "stream",
     "text": [
      "\n",
      "--- Frosted pretrained backbone! ---\n",
      "Model total number of parameters: 35749488\n",
      "Loaded model from checkpoint: checks/ACDC/n1_100_swa.pt\n",
      "ACDC model loaded\n"
     ]
    }
   ],
   "source": [
    "acdc_model = model_selector(\n",
    "    \"segmentation\", \"resnet34_unet_imagenet_encoder_scse_hypercols\", 4, from_swa=True,\n",
    "    in_channels=3, devices=[0], checkpoint=\"checks/ACDC/n1_100_swa.pt\"\n",
    ")\n",
    "\n",
    "acdc_model.eval()\n",
    "print(\"ACDC model loaded\")"
   ]
  },
  {
   "cell_type": "code",
   "execution_count": 12,
   "metadata": {},
   "outputs": [
    {
     "name": "stdout",
     "output_type": "stream",
     "text": [
      "\n",
      "--- Frosted pretrained backbone! ---\n",
      "Model total number of parameters: 35749488\n",
      "Loaded model from checkpoint: checks/MMs/n1_100_swa.pt\n",
      "MMs model loaded\n"
     ]
    }
   ],
   "source": [
    "acdc_model = model_selector(\n",
    "    \"segmentation\", \"resnet34_unet_imagenet_encoder_scse_hypercols\", 4, from_swa=True,\n",
    "    in_channels=3, devices=[0], checkpoint=\"checks/MMs/n1_100_swa.pt\"\n",
    ")\n",
    "\n",
    "acdc_model.eval()\n",
    "print(\"MMs model loaded\")"
   ]
  },
  {
   "cell_type": "code",
   "execution_count": 13,
   "metadata": {},
   "outputs": [
    {
     "name": "stdout",
     "output_type": "stream",
     "text": [
      "Using None Data Augmentation\n",
      "Padding masks!\n",
      "Padding masks!\n"
     ]
    }
   ],
   "source": [
    "_, _, val_aug = data_augmentation_selector(\n",
    "    \"none\", 224, 224, \"padd\"\n",
    ")"
   ]
  },
  {
   "cell_type": "code",
   "execution_count": 15,
   "metadata": {},
   "outputs": [
    {
     "name": "stdout",
     "output_type": "stream",
     "text": [
      "0 - 0.25: awful\n",
      "0.25 - 0.5: average\n",
      "0.5 - 0.75: good\n",
      "0.75 - 1: excellent\n"
     ]
    }
   ],
   "source": [
    "value_ranges = [0, 0.25, 0.5, 0.75, 1]\n",
    "values_desc = [\"awful\", \"average\", \"good\", \"excellent\"]\n",
    "\n",
    "for i in range(4):\n",
    "    print(f\"{value_ranges[i]} - {value_ranges[i+1]}: {values_desc[i]}\")"
   ]
  },
  {
   "cell_type": "code",
   "execution_count": 19,
   "metadata": {},
   "outputs": [
    {
     "data": {
      "text/plain": [
       "(100, 100)"
      ]
     },
     "execution_count": 19,
     "metadata": {},
     "output_type": "execute_result"
    }
   ],
   "source": [
    "sample = np.random.randint(0,2,(100,100))\n",
    "sample.shape"
   ]
  },
  {
   "cell_type": "code",
   "execution_count": null,
   "metadata": {},
   "outputs": [],
   "source": [
    "fig, (ax1, ax2, ax3) = plt.subplots(1, 3, figsize=(17, 10))\n",
    "fig.tight_layout(pad=3)  # Set spacing between plots\n",
    "\n",
    "ax1.imshow(image, cmap=\"gray\")\n",
    "ax1.axis(\"off\")\n",
    "ax1.set_title(\"Input Image\")\n",
    "\n",
    "masked_lv = np.ma.masked_where(mask == 0, mask)\n",
    "ax2.imshow(image, cmap=\"gray\")\n",
    "ax2.imshow(masked_lv, 'hsv', interpolation='bilinear', alpha=0.33)\n",
    "ax2.axis(\"off\")\n",
    "ax2.set_title(\"Ground-truth\")\n",
    "\n",
    "masked_lv = np.ma.masked_where(pred_mask == 0, pred_mask)\n",
    "ax3.imshow(image, cmap=\"gray\")\n",
    "ax3.imshow(masked_lv, 'hsv', interpolation='bilinear', alpha=0.33)\n",
    "ax3.axis(\"off\")\n",
    "ax3.set_title(\"Automatic Segmentation\")\n",
    "\n",
    "fig.suptitle(f\"{row['ids']} - Jaccard {row['iou']:.4f}\", y=0.9)\n",
    "parent_dir = os.path.join(\"preds\", values_desc[i])\n",
    "os.makedirs(parent_dir, exist_ok=True)\n",
    "plt.savefig(os.path.join(parent_dir, f\"{row['ids']}.jpg\"), dpi=300)\n",
    "plt.close()"
   ]
  },
  {
   "cell_type": "code",
   "execution_count": 16,
   "metadata": {},
   "outputs": [],
   "source": [
    "def save_pred(image, mask, pred_mask, row):\n",
    "    fig, (ax1, ax2, ax3) = plt.subplots(1, 3, figsize=(17, 10))\n",
    "    fig.tight_layout(pad=3)  # Set spacing between plots\n",
    "\n",
    "    ax1.imshow(image, cmap=\"gray\")\n",
    "    ax1.axis(\"off\")\n",
    "    ax1.set_title(\"Input Image\")\n",
    "\n",
    "    masked_lv = np.ma.masked_where(mask == 0, mask)\n",
    "    ax2.imshow(image, cmap=\"gray\")\n",
    "    ax2.imshow(masked_lv, 'hsv', interpolation='bilinear', alpha=0.33)\n",
    "    ax2.axis(\"off\")\n",
    "    ax2.set_title(\"Ground-truth\")\n",
    "\n",
    "    masked_lv = np.ma.masked_where(pred_mask == 0, pred_mask)\n",
    "    ax3.imshow(image, cmap=\"gray\")\n",
    "    ax3.imshow(masked_lv, 'hsv', interpolation='bilinear', alpha=0.33)\n",
    "    ax3.axis(\"off\")\n",
    "    ax3.set_title(\"Automatic Segmentation\")\n",
    "\n",
    "    fig.suptitle(f\"{row['ids']} - Jaccard {row['iou']:.4f}\", y=0.9)\n",
    "    parent_dir = os.path.join(\"preds\", values_desc[i])\n",
    "    os.makedirs(parent_dir, exist_ok=True)\n",
    "    plt.savefig(os.path.join(parent_dir, f\"{row['ids']}.jpg\"), dpi=300)\n",
    "    plt.close()"
   ]
  },
  {
   "cell_type": "code",
   "execution_count": 15,
   "metadata": {},
   "outputs": [],
   "source": [
    "plots_per_range = 25\n",
    "dicom_dir = \"data/LVSC/Validation/\"\n",
    "consensus_dir = \"data/LVSC/consensus/images/\"\n",
    "\n",
    "for i in range(4):\n",
    "    selection = df.loc[(df[\"iou\"]>value_ranges[i]) & (df[\"iou\"]<value_ranges[i+1])]\n",
    "    current_plots = 0\n",
    "    for index, row in selection.iterrows():\n",
    "        patient = row['ids'].split(\"_\")[0]\n",
    "        \n",
    "        img_path = os.path.join(find_path(dicom_dir, f\"{row['ids']}.dcm\"))\n",
    "        image = d.read_dicom(img_path)\n",
    "        \n",
    "        mask_path = os.path.join(consensus_dir, patient, f\"{row['ids']}.png\")\n",
    "        mask = np.where(io.imread(mask_path) > 0.5, 1, 0).astype(np.int32)\n",
    "        \n",
    "        imageT, maskT = d.apply_augmentations(image, albumentations.Compose(val_aug), [], mask)\n",
    "        imageT = d.apply_normalization(imageT, \"standardize\")\n",
    "        imageT = torch.from_numpy(np.expand_dims(imageT, axis=0))\n",
    "\n",
    "        imageT = d.add_depth_channels(imageT)\n",
    "        maskT = torch.from_numpy(np.expand_dims(maskT, 0)).float()\n",
    "        \n",
    "        pred_mask = model(imageT.unsqueeze(0)).squeeze()\n",
    "        pred_mask = reshape_masks(torch.sigmoid(pred_mask).detach().cpu().numpy(),mask.shape, \"padd\")\n",
    "        pred_mask = (pred_mask > 0.5, 1, 0)[0].astype(np.int32)\n",
    "        \n",
    "        save_pred(image, mask, pred_mask, row)\n",
    "        \n",
    "        current_plots += 1\n",
    "        if current_plots >= plots_per_range:\n",
    "            break"
   ]
  },
  {
   "cell_type": "markdown",
   "metadata": {},
   "source": [
    "-------------"
   ]
  },
  {
   "cell_type": "markdown",
   "metadata": {},
   "source": [
    "## Get metrics by replacing infinite distance values with max value"
   ]
  },
  {
   "cell_type": "code",
   "execution_count": 5,
   "metadata": {},
   "outputs": [
    {
     "name": "stdout",
     "output_type": "stream",
     "text": [
      "Mean IOU: 0.7713022863926522\n",
      "Mean DICE: 0.8653602617798583\n",
      "Mean Hausdorff: 3.3798757712666525\n",
      "Mean ASSD: 0.9405419264204584\n"
     ]
    }
   ],
   "source": [
    "print(f\"Mean IOU: {df['iou'].mean()}\")\n",
    "print(f\"Mean DICE: {df['dice'].mean()}\")\n",
    "print(f\"Mean Hausdorff: {df['hausdorff'].mean()}\")\n",
    "print(f\"Mean ASSD: {df['assd'].mean()}\")"
   ]
  },
  {
   "cell_type": "code",
   "execution_count": 6,
   "metadata": {},
   "outputs": [],
   "source": [
    "max_hausdorff = df[\"hausdorff\"].max()\n",
    "max_assd = df[\"assd\"].max()"
   ]
  },
  {
   "cell_type": "code",
   "execution_count": 7,
   "metadata": {},
   "outputs": [],
   "source": [
    "df[\"hausdorff\"].replace(-1, max_hausdorff, inplace=True)\n",
    "df[\"assd\"].replace(-1, max_assd, inplace=True)"
   ]
  },
  {
   "cell_type": "code",
   "execution_count": 8,
   "metadata": {},
   "outputs": [
    {
     "name": "stdout",
     "output_type": "stream",
     "text": [
      "Mean IOU: 0.7713022863926522\n",
      "Mean DICE: 0.8653602617798583\n",
      "Mean Hausdorff: 3.5313756697819394\n",
      "Mean ASSD: 1.0044842124418878\n"
     ]
    }
   ],
   "source": [
    "print(f\"Mean IOU: {df['iou'].mean()}\")\n",
    "print(f\"Mean DICE: {df['dice'].mean()}\")\n",
    "print(f\"Mean Hausdorff: {df['hausdorff'].mean()}\")\n",
    "print(f\"Mean ASSD: {df['assd'].mean()}\")"
   ]
  }
 ],
 "metadata": {
  "kernelspec": {
   "display_name": "Python 3",
   "language": "python",
   "name": "python3"
  },
  "language_info": {
   "codemirror_mode": {
    "name": "ipython",
    "version": 3
   },
   "file_extension": ".py",
   "mimetype": "text/x-python",
   "name": "python",
   "nbconvert_exporter": "python",
   "pygments_lexer": "ipython3",
   "version": "3.8.5"
  }
 },
 "nbformat": 4,
 "nbformat_minor": 4
}
